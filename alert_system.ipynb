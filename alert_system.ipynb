{
 "cells": [
  {
   "cell_type": "markdown",
   "id": "72ed61cb-68aa-4107-b60b-4cb6419fe871",
   "metadata": {
    "tags": []
   },
   "source": [
    "### Импортируем библиотеки\n",
    "### WARNING: для отправки сообщений используется python-telegram-bot=13.7"
   ]
  },
  {
   "cell_type": "code",
   "execution_count": 1,
   "id": "b9d4210e-26e1-4de2-bd65-c0302a1dcda7",
   "metadata": {},
   "outputs": [],
   "source": [
    "import pandas as pd\n",
    "import pandahouse as ph\n",
    "import seaborn as sns\n",
    "import matplotlib.pyplot as plt\n",
    "import telegram\n",
    "import io\n",
    "import scipy.stats as stats"
   ]
  },
  {
   "cell_type": "markdown",
   "id": "0edf57d5-bc02-4079-ab4c-9cd88c7718cb",
   "metadata": {},
   "source": [
    "### Задаем значения переменным"
   ]
  },
  {
   "cell_type": "code",
   "execution_count": 2,
   "id": "940eec73-f579-487f-a5a4-0d106c38553c",
   "metadata": {},
   "outputs": [],
   "source": [
    "token = BOT_TOKEN\n",
    "bot = telegram.Bot(token=token)\n",
    "chat_id = 96083455\n",
    "group_chat_id = -958942131 # alert group chat"
   ]
  },
  {
   "cell_type": "code",
   "execution_count": 3,
   "id": "eb09f853-ae81-4590-b55f-7af0d2c3f584",
   "metadata": {},
   "outputs": [],
   "source": [
    "connection = {\n",
    "    'host': 'https://clickhouse.lab.karpov.courses',\n",
    "    'database':'simulator_20230320',\n",
    "    'user':'student', \n",
    "    'password':'dpo_python_2020'\n",
    "}"
   ]
  },
  {
   "cell_type": "markdown",
   "id": "1bb66f76-e0dd-473a-bb7a-7b00cd155026",
   "metadata": {},
   "source": [
    "### В запросе округляем время везде до 15 минут, чтобы рендж 15-тиминуток был суточным"
   ]
  },
  {
   "cell_type": "code",
   "execution_count": 4,
   "id": "621066cb-de48-44d8-b43a-7f5438f086fd",
   "metadata": {},
   "outputs": [],
   "source": [
    "query = '''\n",
    "SELECT toStartOfFifteenMinutes(time) AS timestamp,\n",
    "      count(distinct user_id) as dau,\n",
    "      countIf(user_id, action='like') as likes,\n",
    "      countIf(user_id, action='view') as views,\n",
    "      round(countIf(user_id, action='like') / countIf(user_id, action='view'), 3) AS ctr\n",
    "FROM simulator_20230320.feed_actions\n",
    "WHERE time >= toStartOfFifteenMinutes(now()) - INTERVAL '1 DAY'\n",
    "  AND time < toStartOfFifteenMinutes(now())\n",
    "GROUP BY toStartOfFifteenMinutes(time)\n",
    "ORDER BY timestamp\n",
    "'''"
   ]
  },
  {
   "cell_type": "code",
   "execution_count": 5,
   "id": "12adfe67-d32a-429c-b42b-359530549d8d",
   "metadata": {},
   "outputs": [
    {
     "data": {
      "text/html": [
       "<div>\n",
       "<style scoped>\n",
       "    .dataframe tbody tr th:only-of-type {\n",
       "        vertical-align: middle;\n",
       "    }\n",
       "\n",
       "    .dataframe tbody tr th {\n",
       "        vertical-align: top;\n",
       "    }\n",
       "\n",
       "    .dataframe thead th {\n",
       "        text-align: right;\n",
       "    }\n",
       "</style>\n",
       "<table border=\"1\" class=\"dataframe\">\n",
       "  <thead>\n",
       "    <tr style=\"text-align: right;\">\n",
       "      <th></th>\n",
       "      <th>timestamp</th>\n",
       "      <th>dau</th>\n",
       "      <th>likes</th>\n",
       "      <th>views</th>\n",
       "      <th>ctr</th>\n",
       "    </tr>\n",
       "  </thead>\n",
       "  <tbody>\n",
       "    <tr>\n",
       "      <th>86</th>\n",
       "      <td>2023-04-24 08:30:00</td>\n",
       "      <td>491</td>\n",
       "      <td>1457</td>\n",
       "      <td>6514</td>\n",
       "      <td>0.224</td>\n",
       "    </tr>\n",
       "    <tr>\n",
       "      <th>87</th>\n",
       "      <td>2023-04-24 08:45:00</td>\n",
       "      <td>517</td>\n",
       "      <td>1348</td>\n",
       "      <td>6612</td>\n",
       "      <td>0.204</td>\n",
       "    </tr>\n",
       "    <tr>\n",
       "      <th>88</th>\n",
       "      <td>2023-04-24 09:00:00</td>\n",
       "      <td>576</td>\n",
       "      <td>1658</td>\n",
       "      <td>7409</td>\n",
       "      <td>0.224</td>\n",
       "    </tr>\n",
       "    <tr>\n",
       "      <th>89</th>\n",
       "      <td>2023-04-24 09:15:00</td>\n",
       "      <td>553</td>\n",
       "      <td>1604</td>\n",
       "      <td>7390</td>\n",
       "      <td>0.217</td>\n",
       "    </tr>\n",
       "    <tr>\n",
       "      <th>90</th>\n",
       "      <td>2023-04-24 09:30:00</td>\n",
       "      <td>580</td>\n",
       "      <td>1661</td>\n",
       "      <td>7798</td>\n",
       "      <td>0.213</td>\n",
       "    </tr>\n",
       "    <tr>\n",
       "      <th>91</th>\n",
       "      <td>2023-04-24 09:45:00</td>\n",
       "      <td>577</td>\n",
       "      <td>1674</td>\n",
       "      <td>7825</td>\n",
       "      <td>0.214</td>\n",
       "    </tr>\n",
       "    <tr>\n",
       "      <th>92</th>\n",
       "      <td>2023-04-24 10:00:00</td>\n",
       "      <td>589</td>\n",
       "      <td>1584</td>\n",
       "      <td>7316</td>\n",
       "      <td>0.217</td>\n",
       "    </tr>\n",
       "    <tr>\n",
       "      <th>93</th>\n",
       "      <td>2023-04-24 10:15:00</td>\n",
       "      <td>612</td>\n",
       "      <td>1684</td>\n",
       "      <td>7720</td>\n",
       "      <td>0.218</td>\n",
       "    </tr>\n",
       "    <tr>\n",
       "      <th>94</th>\n",
       "      <td>2023-04-24 10:30:00</td>\n",
       "      <td>607</td>\n",
       "      <td>1605</td>\n",
       "      <td>7523</td>\n",
       "      <td>0.213</td>\n",
       "    </tr>\n",
       "    <tr>\n",
       "      <th>95</th>\n",
       "      <td>2023-04-24 10:45:00</td>\n",
       "      <td>602</td>\n",
       "      <td>1630</td>\n",
       "      <td>7643</td>\n",
       "      <td>0.213</td>\n",
       "    </tr>\n",
       "  </tbody>\n",
       "</table>\n",
       "</div>"
      ],
      "text/plain": [
       "             timestamp  dau  likes  views    ctr\n",
       "86 2023-04-24 08:30:00  491   1457   6514  0.224\n",
       "87 2023-04-24 08:45:00  517   1348   6612  0.204\n",
       "88 2023-04-24 09:00:00  576   1658   7409  0.224\n",
       "89 2023-04-24 09:15:00  553   1604   7390  0.217\n",
       "90 2023-04-24 09:30:00  580   1661   7798  0.213\n",
       "91 2023-04-24 09:45:00  577   1674   7825  0.214\n",
       "92 2023-04-24 10:00:00  589   1584   7316  0.217\n",
       "93 2023-04-24 10:15:00  612   1684   7720  0.218\n",
       "94 2023-04-24 10:30:00  607   1605   7523  0.213\n",
       "95 2023-04-24 10:45:00  602   1630   7643  0.213"
      ]
     },
     "execution_count": 5,
     "metadata": {},
     "output_type": "execute_result"
    }
   ],
   "source": [
    "df = ph.read_clickhouse(query, connection=connection)\n",
    "df.tail(10)"
   ]
  },
  {
   "cell_type": "markdown",
   "id": "77be3fb8-9807-4ec0-9384-f06f5dcbd58f",
   "metadata": {},
   "source": [
    "### Смотрим на распределение метрики, определяем среднее и стандартное отклонение"
   ]
  },
  {
   "cell_type": "code",
   "execution_count": 6,
   "id": "95179709-030d-47e8-a0eb-04225f55b7bc",
   "metadata": {},
   "outputs": [
    {
     "data": {
      "text/plain": [
       "<AxesSubplot:>"
      ]
     },
     "execution_count": 6,
     "metadata": {},
     "output_type": "execute_result"
    },
    {
     "data": {
      "image/png": "[encoded data removed]",
      "text/plain": [
       "<Figure size 432x288 with 1 Axes>"
      ]
     },
     "metadata": {
      "needs_background": "light"
     },
     "output_type": "display_data"
    }
   ],
   "source": [
    "df.ctr.hist()"
   ]
  },
  {
   "cell_type": "code",
   "execution_count": 7,
   "id": "531ba937-f6fc-472c-b6ab-2dad4c6129d0",
   "metadata": {},
   "outputs": [
    {
     "data": {
      "text/plain": [
       "0.015432706212865958"
      ]
     },
     "execution_count": 7,
     "metadata": {},
     "output_type": "execute_result"
    }
   ],
   "source": [
    "df.ctr.std()"
   ]
  },
  {
   "cell_type": "code",
   "execution_count": 8,
   "id": "04b73889-5f66-4b07-bc48-2e101d7412ca",
   "metadata": {},
   "outputs": [
    {
     "data": {
      "text/plain": [
       "0.207"
      ]
     },
     "execution_count": 8,
     "metadata": {},
     "output_type": "execute_result"
    }
   ],
   "source": [
    "df.ctr.mean()"
   ]
  },
  {
   "cell_type": "markdown",
   "id": "e59335d6-cda7-4b34-9b98-8c42e0e35672",
   "metadata": {},
   "source": [
    "### Проверяем формулу отклонения метрики в %"
   ]
  },
  {
   "cell_type": "code",
   "execution_count": 9,
   "id": "bfdaabe0-97ec-4935-aad7-f57dfae65be9",
   "metadata": {},
   "outputs": [
    {
     "data": {
      "text/plain": [
       "2.9"
      ]
     },
     "execution_count": 9,
     "metadata": {},
     "output_type": "execute_result"
    }
   ],
   "source": [
    "round((df.iloc[-1, 4] - df.ctr.mean()) / df.ctr.mean() * 100, 2)"
   ]
  },
  {
   "cell_type": "markdown",
   "id": "7eb8b1ba-ba56-416b-8ffd-f65e2c59a452",
   "metadata": {},
   "source": [
    "### Тестируем код для создания чарта и отправки его в Телеграм"
   ]
  },
  {
   "cell_type": "code",
   "execution_count": 11,
   "id": "28919b7a-bf78-438e-87be-27675210c262",
   "metadata": {},
   "outputs": [
    {
     "data": {
      "text/plain": [
       "<telegram.message.Message at 0x7ff815a7e840>"
      ]
     },
     "execution_count": 11,
     "metadata": {},
     "output_type": "execute_result"
    }
   ],
   "source": [
    "plt.rcParams['figure.figsize'] = [20, 12]\n",
    "sns.set()\n",
    "plot_object = io.BytesIO()\n",
    "ax = sns.lineplot(data=df, x='timestamp', y='ctr', marker='o')\n",
    "ax.set(title='CTR за последние 24 часа')\n",
    "plt.savefig(plot_object)\n",
    "plot_object.seek(0)\n",
    "plt.close()\n",
    "bot.sendPhoto(chat_id=chat_id, photo=plot_object)"
   ]
  },
  {
   "cell_type": "code",
   "execution_count": 12,
   "id": "1e3f1f8b-34f9-46ba-8cd3-8c7a926aad63",
   "metadata": {},
   "outputs": [
    {
     "data": {
      "text/plain": [
       "[Text(0.5, 1.0, 'CTR за последние 24 часа')]"
      ]
     },
     "execution_count": 12,
     "metadata": {},
     "output_type": "execute_result"
    },
    {
     "data": {
      "image/png": "[encoded data removed]",
      "text/plain": [
       "<Figure size 1440x864 with 1 Axes>"
      ]
     },
     "metadata": {},
     "output_type": "display_data"
    }
   ],
   "source": [
    "ax = sns.lineplot(data=df, x='timestamp', y='ctr', marker='o')\n",
    "ax.set(title='CTR за последние 24 часа')"
   ]
  },
  {
   "cell_type": "markdown",
   "id": "323c1aaf-2db0-4d47-8423-69e318fc55c5",
   "metadata": {},
   "source": [
    "### Пишем код для проверки каждой метрики и отправки сообщения в Телеграм при отклонении более 3 сигм в любую сторону"
   ]
  },
  {
   "cell_type": "code",
   "execution_count": 13,
   "id": "165185eb-fae1-41a1-829a-131cd880e2af",
   "metadata": {},
   "outputs": [],
   "source": [
    "plt.rcParams['figure.figsize'] = [20, 12]\n",
    "sns.set()"
   ]
  },
  {
   "cell_type": "code",
   "execution_count": 14,
   "id": "174247f4-ff66-4316-8028-e8f5352dba5e",
   "metadata": {},
   "outputs": [],
   "source": [
    "if (df.iloc[-1, 4]) > df.ctr.mean() + 3*df.ctr.std() or (df.iloc[-1, 4]) < df.ctr.mean() - 3*df.ctr.std():\n",
    "    bot.sendMessage(chat_id=group_chat_id, text=f'''Метрика CTR в ленте новостей. \n",
    "    Текущее значение {df.iloc[-1, 4]}. Отклонение более {round((df.iloc[-1, 4] - df.ctr.mean()) / df.ctr.mean() * 100, 2)}%.\n",
    "    Дашборд: https://superset.lab.karpov.courses/superset/dashboard/3184/''')\n",
    "    plot_object = io.BytesIO()\n",
    "    ax = sns.lineplot(data=df, x='timestamp', y='ctr', marker='o')\n",
    "    ax.set(title='CTR за последние 24 часа')\n",
    "    plt.savefig(plot_object)\n",
    "    plot_object.seek(0)\n",
    "    plt.close()\n",
    "    bot.sendPhoto(chat_id=group_chat_id, photo=plot_object)"
   ]
  },
  {
   "cell_type": "code",
   "execution_count": 15,
   "id": "63d4bf04-1854-4b62-939c-74dda9684d6d",
   "metadata": {},
   "outputs": [],
   "source": [
    "if (df.iloc[-1, 1]) > df.dau.mean() + 3*df.dau.std() or (df.iloc[-1, 1]) < df.dau.mean() - 3*df.dau.std():\n",
    "    bot.sendMessage(chat_id=group_chat_id, text=f'''Метрика DAU в ленте новостей. \n",
    "    Текущее значение {df.iloc[-1, 1]}. Отклонение более {round((df.iloc[-1, 1] - df.dau.mean()) / df.dau.mean() * 100, 2)}%.\n",
    "    Дашборд: https://superset.lab.karpov.courses/superset/dashboard/3184/''')\n",
    "    plot_object = io.BytesIO()\n",
    "    ax = sns.lineplot(data=df, x='timestamp', y='dau', marker='o')\n",
    "    ax.set(title='DAU за последние 24 часа')\n",
    "    plt.savefig(plot_object)\n",
    "    plot_object.seek(0)\n",
    "    plt.close()\n",
    "    bot.sendPhoto(chat_id=group_chat_id, photo=plot_object)"
   ]
  },
  {
   "cell_type": "code",
   "execution_count": 16,
   "id": "d1f9edea-fabb-43b7-9f12-c90a84cc81cf",
   "metadata": {},
   "outputs": [],
   "source": [
    "if (df.iloc[-1, 2]) > df.likes.mean() + 3*df.likes.std() or (df.iloc[-1, 2]) < df.likes.mean() - 3*df.likes.std():\n",
    "    bot.sendMessage(chat_id=group_chat_id, text=f'''Метрика LIKES в ленте новостей. \n",
    "    Текущее значение {df.iloc[-1, 2]}. Отклонение более {round((df.iloc[-1, 2] - df.likes.mean()) / df.likes.mean() * 100, 2)}%.\n",
    "    Дашборд: https://superset.lab.karpov.courses/superset/dashboard/3184/''')\n",
    "    plot_object = io.BytesIO()\n",
    "    ax = sns.lineplot(data=df, x='timestamp', y='likes', marker='o')\n",
    "    ax.set(title='Лайки за последние 24 часа')\n",
    "    plt.savefig(plot_object)\n",
    "    plot_object.seek(0)\n",
    "    plt.close()\n",
    "    bot.sendPhoto(chat_id=group_chat_id, photo=plot_object)"
   ]
  },
  {
   "cell_type": "code",
   "execution_count": 17,
   "id": "502b58d1-9b1d-4829-8ac7-fa51b196b5fc",
   "metadata": {},
   "outputs": [],
   "source": [
    "if (df.iloc[-1, 3]) > df.views.mean() + 3*df.views.std() or (df.iloc[-1, 3]) < df.views.mean() - 3*df.views.std():\n",
    "    bot.sendMessage(chat_id=group_chat_id, text=f'''Метрика VIEWS в ленте новостей. \n",
    "    Текущее значение {df.iloc[-1, 3]}. Отклонение более {round((df.iloc[-1, 3] - df.views.mean()) / df.views.mean() * 100, 2)}%.\n",
    "    Дашборд: https://superset.lab.karpov.courses/superset/dashboard/3184/''')\n",
    "    plot_object = io.BytesIO()\n",
    "    ax = sns.lineplot(data=df, x='timestamp', y='views', marker='o')\n",
    "    ax.set(title='Просмотры за последние 24 часа')\n",
    "    plt.savefig(plot_object)\n",
    "    plot_object.seek(0)\n",
    "    plt.close()\n",
    "    bot.sendPhoto(chat_id=group_chat_id, photo=plot_object)"
   ]
  },
  {
   "cell_type": "markdown",
   "id": "264e3215-10cb-4ae8-b2a6-f8142e3b4ded",
   "metadata": {},
   "source": [
    "### Выбираем данные для другой таблицы (мессенджер) и обрабатываем их"
   ]
  },
  {
   "cell_type": "code",
   "execution_count": 18,
   "id": "41b44fc3-ebda-4ce8-a7bb-90646762be3e",
   "metadata": {},
   "outputs": [],
   "source": [
    "query = '''\n",
    "SELECT toStartOfFifteenMinutes(time) AS timestamp,\n",
    "      count(distinct user_id) as dau,\n",
    "      count(user_id) as messages_sent\n",
    "FROM simulator_20230320.message_actions \n",
    "WHERE time >= toStartOfFifteenMinutes(now()) - INTERVAL '1 DAY'\n",
    "  AND time < toStartOfFifteenMinutes(now())\n",
    "GROUP BY toStartOfFifteenMinutes(time)\n",
    "ORDER BY timestamp\n",
    "'''"
   ]
  },
  {
   "cell_type": "code",
   "execution_count": 19,
   "id": "dccd682a-bf82-48e1-8ccc-27f64ddfdc11",
   "metadata": {},
   "outputs": [
    {
     "data": {
      "text/html": [
       "<div>\n",
       "<style scoped>\n",
       "    .dataframe tbody tr th:only-of-type {\n",
       "        vertical-align: middle;\n",
       "    }\n",
       "\n",
       "    .dataframe tbody tr th {\n",
       "        vertical-align: top;\n",
       "    }\n",
       "\n",
       "    .dataframe thead th {\n",
       "        text-align: right;\n",
       "    }\n",
       "</style>\n",
       "<table border=\"1\" class=\"dataframe\">\n",
       "  <thead>\n",
       "    <tr style=\"text-align: right;\">\n",
       "      <th></th>\n",
       "      <th>timestamp</th>\n",
       "      <th>dau</th>\n",
       "      <th>messages_sent</th>\n",
       "    </tr>\n",
       "  </thead>\n",
       "  <tbody>\n",
       "    <tr>\n",
       "      <th>86</th>\n",
       "      <td>2023-04-24 08:30:00</td>\n",
       "      <td>87</td>\n",
       "      <td>109</td>\n",
       "    </tr>\n",
       "    <tr>\n",
       "      <th>87</th>\n",
       "      <td>2023-04-24 08:45:00</td>\n",
       "      <td>105</td>\n",
       "      <td>119</td>\n",
       "    </tr>\n",
       "    <tr>\n",
       "      <th>88</th>\n",
       "      <td>2023-04-24 09:00:00</td>\n",
       "      <td>116</td>\n",
       "      <td>148</td>\n",
       "    </tr>\n",
       "    <tr>\n",
       "      <th>89</th>\n",
       "      <td>2023-04-24 09:15:00</td>\n",
       "      <td>114</td>\n",
       "      <td>144</td>\n",
       "    </tr>\n",
       "    <tr>\n",
       "      <th>90</th>\n",
       "      <td>2023-04-24 09:30:00</td>\n",
       "      <td>109</td>\n",
       "      <td>138</td>\n",
       "    </tr>\n",
       "    <tr>\n",
       "      <th>91</th>\n",
       "      <td>2023-04-24 09:45:00</td>\n",
       "      <td>123</td>\n",
       "      <td>149</td>\n",
       "    </tr>\n",
       "    <tr>\n",
       "      <th>92</th>\n",
       "      <td>2023-04-24 10:00:00</td>\n",
       "      <td>138</td>\n",
       "      <td>191</td>\n",
       "    </tr>\n",
       "    <tr>\n",
       "      <th>93</th>\n",
       "      <td>2023-04-24 10:15:00</td>\n",
       "      <td>122</td>\n",
       "      <td>155</td>\n",
       "    </tr>\n",
       "    <tr>\n",
       "      <th>94</th>\n",
       "      <td>2023-04-24 10:30:00</td>\n",
       "      <td>132</td>\n",
       "      <td>178</td>\n",
       "    </tr>\n",
       "    <tr>\n",
       "      <th>95</th>\n",
       "      <td>2023-04-24 10:45:00</td>\n",
       "      <td>144</td>\n",
       "      <td>172</td>\n",
       "    </tr>\n",
       "  </tbody>\n",
       "</table>\n",
       "</div>"
      ],
      "text/plain": [
       "             timestamp  dau  messages_sent\n",
       "86 2023-04-24 08:30:00   87            109\n",
       "87 2023-04-24 08:45:00  105            119\n",
       "88 2023-04-24 09:00:00  116            148\n",
       "89 2023-04-24 09:15:00  114            144\n",
       "90 2023-04-24 09:30:00  109            138\n",
       "91 2023-04-24 09:45:00  123            149\n",
       "92 2023-04-24 10:00:00  138            191\n",
       "93 2023-04-24 10:15:00  122            155\n",
       "94 2023-04-24 10:30:00  132            178\n",
       "95 2023-04-24 10:45:00  144            172"
      ]
     },
     "execution_count": 19,
     "metadata": {},
     "output_type": "execute_result"
    }
   ],
   "source": [
    "df = ph.read_clickhouse(query, connection=connection)\n",
    "df.tail(10)"
   ]
  },
  {
   "cell_type": "code",
   "execution_count": 20,
   "id": "441653b5-e61a-4af6-957e-37c027b45fd2",
   "metadata": {},
   "outputs": [
    {
     "data": {
      "text/plain": [
       "<AxesSubplot:>"
      ]
     },
     "execution_count": 20,
     "metadata": {},
     "output_type": "execute_result"
    },
    {
     "data": {
      "image/png": "[encoded data removed]",
      "text/plain": [
       "<Figure size 1440x864 with 1 Axes>"
      ]
     },
     "metadata": {},
     "output_type": "display_data"
    }
   ],
   "source": [
    "df.messages_sent.hist()"
   ]
  },
  {
   "cell_type": "code",
   "execution_count": 21,
   "id": "97079d9b-d12f-46b8-9d5f-43a58990c188",
   "metadata": {},
   "outputs": [],
   "source": [
    "plt.rcParams['figure.figsize'] = [20, 12]\n",
    "sns.set()"
   ]
  },
  {
   "cell_type": "code",
   "execution_count": 22,
   "id": "a91f7a88-5990-416a-94c3-7f02bdc7be8f",
   "metadata": {},
   "outputs": [],
   "source": [
    "if (df.iloc[-1, 1]) > df.dau.mean() + 3*df.dau.std() or (df.iloc[-1, 1]) < df.dau.mean() - 3*df.dau.std():\n",
    "    bot.sendMessage(chat_id=group_chat_id, text=f'''Метрика DAU в ленте новостей. \n",
    "    Текущее значение {df.iloc[-1, 1]}. Отклонение более {round((df.iloc[-1, 1] - df.dau.mean()) / df.dau.mean() * 100, 2)}%.\n",
    "    ''')\n",
    "    plot_object = io.BytesIO()\n",
    "    ax = sns.lineplot(data=df, x='timestamp', y='dau', marker='o')\n",
    "    ax.set(title='DAU за последние 24 часа')\n",
    "    plt.savefig(plot_object)\n",
    "    plot_object.seek(0)\n",
    "    plt.close()\n",
    "    bot.sendPhoto(chat_id=group_chat_id, photo=plot_object)"
   ]
  },
  {
   "cell_type": "code",
   "execution_count": 23,
   "id": "4dfba55c-34a2-4840-96a0-ad4bb28fc758",
   "metadata": {},
   "outputs": [],
   "source": [
    "if (df.iloc[-1, 2]) > df.messages_sent.mean() + 3*df.messages_sent.std() or (df.iloc[-1, 2]) < df.messages_sent.mean() - 3*df.messages_sent.std():\n",
    "    bot.sendMessage(chat_id=group_chat_id, text=f'''Метрика Отправленные сообщения в ленте новостей. \n",
    "    Текущее значение {df.iloc[-1, 2]}. Отклонение более {round((df.iloc[-1, 2] - df.messages_sent.mean()) / df.messages_sent.mean() * 100, 2)}%.\n",
    "    ''')\n",
    "    plot_object = io.BytesIO()\n",
    "    ax = sns.lineplot(data=df, x='timestamp', y='dau', marker='o')\n",
    "    ax.set(title='DAU за последние 24 часа')\n",
    "    plt.savefig(plot_object)\n",
    "    plot_object.seek(0)\n",
    "    plt.close()\n",
    "    bot.sendPhoto(chat_id=group_chat_id, photo=plot_object)"
   ]
  },
  {
   "cell_type": "code",
   "execution_count": null,
   "id": "27c12cc0-9f3a-4a78-952a-794d9eb83a26",
   "metadata": {},
   "outputs": [],
   "source": []
  }
 ],
 "metadata": {
  "kernelspec": {
   "display_name": "Python 3 (ipykernel)",
   "language": "python",
   "name": "python3"
  },
  "language_info": {
   "codemirror_mode": {
    "name": "ipython",
    "version": 3
   },
   "file_extension": ".py",
   "mimetype": "text/x-python",
   "name": "python",
   "nbconvert_exporter": "python",
   "pygments_lexer": "ipython3",
   "version": "3.9.7"
  }
 },
 "nbformat": 4,
 "nbformat_minor": 5
}
